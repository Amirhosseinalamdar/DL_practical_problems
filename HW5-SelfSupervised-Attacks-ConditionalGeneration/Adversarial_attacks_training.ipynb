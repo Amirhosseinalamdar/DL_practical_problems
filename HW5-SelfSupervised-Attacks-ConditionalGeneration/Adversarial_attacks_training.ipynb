{
 "cells": [
  {
   "cell_type": "markdown",
   "metadata": {},
   "source": [
    "<center><h1>In the name of Allah</h1></center>"
   ]
  },
  {
   "cell_type": "markdown",
   "metadata": {},
   "source": [
    "Name: Amirhossein Alamdar\n",
    "\n",
    "Student Number: 400105144"
   ]
  },
  {
   "cell_type": "markdown",
   "metadata": {},
   "source": [
    "In this notebook, you will explore adversarial attacks and training methods in deep learning. First, you will train a simple model, ResNet18, on the CIFAR-10 dataset. Next, you will learn about two different adversarial attacks: FGSM (Fast Gradient Sign Method) and PGD (Projected Gradient Descent). To enhance your understanding, you will implement the PGD attack from scratch, while the FGSM attack will be implemented using a library. After this, you will use the FGSM attack to generate adversarial examples and then perform adversarial training on the model using the CIFAR-10 dataset. Finally, you will compare the performance and robustness of the adversarially trained model with the original model. \n",
    "\n",
    "Good luck!"
   ]
  },
  {
   "cell_type": "markdown",
   "metadata": {},
   "source": [
    "## outline\n",
    "- Train Resnet on CIFAR10\n",
    "- FGSM Attack using torchattacks\n",
    "- PGD Attack from scratch\n",
    "- Visualization\n",
    "- Adversarial Training\n"
   ]
  },
  {
   "cell_type": "code",
   "execution_count": 1,
   "metadata": {},
   "outputs": [],
   "source": [
    "import torch\n",
    "import torchvision\n",
    "import torchvision.transforms as transforms\n",
    "from torchvision.models import resnet18\n",
    "import torch.nn as nn\n",
    "import torch.nn.functional as F\n",
    "import torch.optim as optim\n",
    "import numpy as np\n",
    "from torch.autograd import Variable\n",
    "from tqdm import tqdm"
   ]
  },
  {
   "cell_type": "code",
   "execution_count": 2,
   "metadata": {},
   "outputs": [
    {
     "name": "stdout",
     "output_type": "stream",
     "text": [
      "cuda:0\n"
     ]
    }
   ],
   "source": [
    "device = 'cuda:0' if torch.cuda.is_available() else 'cpu'\n",
    "print(device)"
   ]
  },
  {
   "cell_type": "markdown",
   "metadata": {},
   "source": [
    "## Train Resnet on CIFAR10 (15 pts)"
   ]
  },
  {
   "cell_type": "code",
   "execution_count": 3,
   "metadata": {},
   "outputs": [
    {
     "name": "stdout",
     "output_type": "stream",
     "text": [
      "Files already downloaded and verified\n",
      "Files already downloaded and verified\n"
     ]
    }
   ],
   "source": [
    "# Prepare Cifar10 data\n",
    "import torch.utils\n",
    "import torch.utils.data\n",
    "\n",
    "\n",
    "batch_size = 128\n",
    "transform = transforms.Compose([transforms.ToTensor(),])\n",
    "\n",
    "##############################################################################\n",
    "# Prepare training and test datasets and dataloaders                         #\n",
    "##############################################################################\n",
    "trainset = torchvision.datasets.CIFAR10('./CIFAR10', train=True, transform=transform, download=True)\n",
    "trainloader = torch.utils.data.DataLoader(trainset, batch_size=batch_size, shuffle=True, num_workers=2)\n",
    "testset = torchvision.datasets.CIFAR10('./CIFAR10', train=False, transform=transform, download=True)\n",
    "testloader = torch.utils.data.DataLoader(trainset, batch_size=batch_size, shuffle=False) \n",
    "################################ End #########################################\n",
    "\n",
    "classes = ('plane', 'car', 'bird', 'cat', 'deer', 'dog', 'frog', 'horse', 'ship', 'truck')"
   ]
  },
  {
   "cell_type": "code",
   "execution_count": 4,
   "metadata": {},
   "outputs": [
    {
     "data": {
      "text/plain": [
       "resnet(\n",
       "  (conv): Sequential(\n",
       "    (0): Conv2d(3, 64, kernel_size=(7, 7), stride=(2, 2), padding=(3, 3), bias=False)\n",
       "    (1): BatchNorm2d(64, eps=1e-05, momentum=0.1, affine=True, track_running_stats=True)\n",
       "    (2): ReLU(inplace=True)\n",
       "    (3): MaxPool2d(kernel_size=3, stride=2, padding=1, dilation=1, ceil_mode=False)\n",
       "    (4): Sequential(\n",
       "      (0): BasicBlock(\n",
       "        (conv1): Conv2d(64, 64, kernel_size=(3, 3), stride=(1, 1), padding=(1, 1), bias=False)\n",
       "        (bn1): BatchNorm2d(64, eps=1e-05, momentum=0.1, affine=True, track_running_stats=True)\n",
       "        (relu): ReLU(inplace=True)\n",
       "        (conv2): Conv2d(64, 64, kernel_size=(3, 3), stride=(1, 1), padding=(1, 1), bias=False)\n",
       "        (bn2): BatchNorm2d(64, eps=1e-05, momentum=0.1, affine=True, track_running_stats=True)\n",
       "      )\n",
       "      (1): BasicBlock(\n",
       "        (conv1): Conv2d(64, 64, kernel_size=(3, 3), stride=(1, 1), padding=(1, 1), bias=False)\n",
       "        (bn1): BatchNorm2d(64, eps=1e-05, momentum=0.1, affine=True, track_running_stats=True)\n",
       "        (relu): ReLU(inplace=True)\n",
       "        (conv2): Conv2d(64, 64, kernel_size=(3, 3), stride=(1, 1), padding=(1, 1), bias=False)\n",
       "        (bn2): BatchNorm2d(64, eps=1e-05, momentum=0.1, affine=True, track_running_stats=True)\n",
       "      )\n",
       "    )\n",
       "    (5): Sequential(\n",
       "      (0): BasicBlock(\n",
       "        (conv1): Conv2d(64, 128, kernel_size=(3, 3), stride=(2, 2), padding=(1, 1), bias=False)\n",
       "        (bn1): BatchNorm2d(128, eps=1e-05, momentum=0.1, affine=True, track_running_stats=True)\n",
       "        (relu): ReLU(inplace=True)\n",
       "        (conv2): Conv2d(128, 128, kernel_size=(3, 3), stride=(1, 1), padding=(1, 1), bias=False)\n",
       "        (bn2): BatchNorm2d(128, eps=1e-05, momentum=0.1, affine=True, track_running_stats=True)\n",
       "        (downsample): Sequential(\n",
       "          (0): Conv2d(64, 128, kernel_size=(1, 1), stride=(2, 2), bias=False)\n",
       "          (1): BatchNorm2d(128, eps=1e-05, momentum=0.1, affine=True, track_running_stats=True)\n",
       "        )\n",
       "      )\n",
       "      (1): BasicBlock(\n",
       "        (conv1): Conv2d(128, 128, kernel_size=(3, 3), stride=(1, 1), padding=(1, 1), bias=False)\n",
       "        (bn1): BatchNorm2d(128, eps=1e-05, momentum=0.1, affine=True, track_running_stats=True)\n",
       "        (relu): ReLU(inplace=True)\n",
       "        (conv2): Conv2d(128, 128, kernel_size=(3, 3), stride=(1, 1), padding=(1, 1), bias=False)\n",
       "        (bn2): BatchNorm2d(128, eps=1e-05, momentum=0.1, affine=True, track_running_stats=True)\n",
       "      )\n",
       "    )\n",
       "    (6): Sequential(\n",
       "      (0): BasicBlock(\n",
       "        (conv1): Conv2d(128, 256, kernel_size=(3, 3), stride=(2, 2), padding=(1, 1), bias=False)\n",
       "        (bn1): BatchNorm2d(256, eps=1e-05, momentum=0.1, affine=True, track_running_stats=True)\n",
       "        (relu): ReLU(inplace=True)\n",
       "        (conv2): Conv2d(256, 256, kernel_size=(3, 3), stride=(1, 1), padding=(1, 1), bias=False)\n",
       "        (bn2): BatchNorm2d(256, eps=1e-05, momentum=0.1, affine=True, track_running_stats=True)\n",
       "        (downsample): Sequential(\n",
       "          (0): Conv2d(128, 256, kernel_size=(1, 1), stride=(2, 2), bias=False)\n",
       "          (1): BatchNorm2d(256, eps=1e-05, momentum=0.1, affine=True, track_running_stats=True)\n",
       "        )\n",
       "      )\n",
       "      (1): BasicBlock(\n",
       "        (conv1): Conv2d(256, 256, kernel_size=(3, 3), stride=(1, 1), padding=(1, 1), bias=False)\n",
       "        (bn1): BatchNorm2d(256, eps=1e-05, momentum=0.1, affine=True, track_running_stats=True)\n",
       "        (relu): ReLU(inplace=True)\n",
       "        (conv2): Conv2d(256, 256, kernel_size=(3, 3), stride=(1, 1), padding=(1, 1), bias=False)\n",
       "        (bn2): BatchNorm2d(256, eps=1e-05, momentum=0.1, affine=True, track_running_stats=True)\n",
       "      )\n",
       "    )\n",
       "    (7): Sequential(\n",
       "      (0): BasicBlock(\n",
       "        (conv1): Conv2d(256, 512, kernel_size=(3, 3), stride=(2, 2), padding=(1, 1), bias=False)\n",
       "        (bn1): BatchNorm2d(512, eps=1e-05, momentum=0.1, affine=True, track_running_stats=True)\n",
       "        (relu): ReLU(inplace=True)\n",
       "        (conv2): Conv2d(512, 512, kernel_size=(3, 3), stride=(1, 1), padding=(1, 1), bias=False)\n",
       "        (bn2): BatchNorm2d(512, eps=1e-05, momentum=0.1, affine=True, track_running_stats=True)\n",
       "        (downsample): Sequential(\n",
       "          (0): Conv2d(256, 512, kernel_size=(1, 1), stride=(2, 2), bias=False)\n",
       "          (1): BatchNorm2d(512, eps=1e-05, momentum=0.1, affine=True, track_running_stats=True)\n",
       "        )\n",
       "      )\n",
       "      (1): BasicBlock(\n",
       "        (conv1): Conv2d(512, 512, kernel_size=(3, 3), stride=(1, 1), padding=(1, 1), bias=False)\n",
       "        (bn1): BatchNorm2d(512, eps=1e-05, momentum=0.1, affine=True, track_running_stats=True)\n",
       "        (relu): ReLU(inplace=True)\n",
       "        (conv2): Conv2d(512, 512, kernel_size=(3, 3), stride=(1, 1), padding=(1, 1), bias=False)\n",
       "        (bn2): BatchNorm2d(512, eps=1e-05, momentum=0.1, affine=True, track_running_stats=True)\n",
       "      )\n",
       "    )\n",
       "  )\n",
       "  (fc): Linear(in_features=512, out_features=10, bias=True)\n",
       ")"
      ]
     },
     "execution_count": 4,
     "metadata": {},
     "output_type": "execute_result"
    }
   ],
   "source": [
    "# model architecture\n",
    "classes = ('plane', 'car', 'bird', 'cat', 'deer', 'dog', 'frog', 'horse', 'ship', 'truck')\n",
    "\n",
    "class resnet(nn.Module):\n",
    "  def __init__(self, num_cls):\n",
    "    super().__init__()\n",
    "    self.conv = nn.Sequential(*list(resnet18(weights=None).children())[:-2])\n",
    "    self.fc = nn.Linear(512, num_cls)\n",
    "\n",
    "  def forward(self, x):\n",
    "    x = self.conv(x)\n",
    "    x = torch.flatten(x, start_dim=1)\n",
    "    logits = self.fc(x)\n",
    "    return logits\n",
    "\n",
    "##############################################################################\n",
    "# Initialize model and move to device                                        #\n",
    "##############################################################################\n",
    "model = resnet(len(classes))\n",
    "model.to(device)\n",
    "\n",
    "################################ End #########################################"
   ]
  },
  {
   "cell_type": "code",
   "execution_count": 5,
   "metadata": {},
   "outputs": [],
   "source": [
    "learning_rate = 0.01\n",
    "criterion = nn.CrossEntropyLoss()\n",
    "optimizer = optim.SGD(model.parameters(), lr=learning_rate, momentum=0.9)\n",
    "epochs = 80"
   ]
  },
  {
   "cell_type": "code",
   "execution_count": 6,
   "metadata": {},
   "outputs": [
    {
     "name": "stdout",
     "output_type": "stream",
     "text": [
      "epoch: 0, loss: 1.5302341783138187\n",
      "epoch: 1, loss: 1.1291979665646468\n",
      "epoch: 2, loss: 0.9226096519423873\n",
      "epoch: 3, loss: 0.7730035865703202\n",
      "epoch: 4, loss: 0.6542772414434291\n",
      "epoch: 5, loss: 0.5518973600071715\n",
      "epoch: 6, loss: 0.45398086991608905\n",
      "epoch: 7, loss: 0.3730428329361674\n",
      "epoch: 8, loss: 0.3101791536716549\n",
      "epoch: 9, loss: 0.26325721545216374\n",
      "epoch: 10, loss: 0.21106387867265955\n",
      "epoch: 11, loss: 0.1662124075814891\n",
      "epoch: 12, loss: 0.1415507543517653\n",
      "epoch: 13, loss: 0.11599056313619437\n",
      "epoch: 14, loss: 0.11162534195577245\n",
      "epoch: 15, loss: 0.08581792534140827\n",
      "epoch: 16, loss: 0.0715602617091535\n",
      "epoch: 17, loss: 0.07424782896104752\n",
      "epoch: 18, loss: 0.06619432687168689\n",
      "epoch: 19, loss: 0.05503683158046449\n",
      "epoch: 20, loss: 0.04912402026017037\n",
      "epoch: 21, loss: 0.04923690108063124\n",
      "epoch: 22, loss: 0.03740800326794881\n",
      "epoch: 23, loss: 0.034296537173645156\n",
      "epoch: 24, loss: 0.03131460471321707\n",
      "epoch: 25, loss: 0.031740561236634546\n",
      "epoch: 26, loss: 0.03294268153879382\n",
      "epoch: 27, loss: 0.029637791006766317\n",
      "epoch: 28, loss: 0.023929926869578545\n",
      "epoch: 29, loss: 0.019433369116602785\n",
      "epoch: 30, loss: 0.014997725190697213\n",
      "epoch: 31, loss: 0.022989939975515343\n",
      "epoch: 32, loss: 0.02502973963949553\n",
      "epoch: 33, loss: 0.021195770550818158\n",
      "epoch: 34, loss: 0.023067876314142925\n",
      "epoch: 35, loss: 0.020732270854869454\n",
      "epoch: 36, loss: 0.016916729534989284\n",
      "epoch: 37, loss: 0.019945074896053638\n",
      "epoch: 38, loss: 0.010445611951786362\n",
      "epoch: 39, loss: 0.01043634597391314\n",
      "epoch: 40, loss: 0.01115013976202375\n",
      "epoch: 41, loss: 0.007687069491635564\n",
      "epoch: 42, loss: 0.010475299632548334\n",
      "epoch: 43, loss: 0.019091580526160716\n",
      "epoch: 44, loss: 0.020468255502137277\n",
      "epoch: 45, loss: 0.011409472967328294\n",
      "epoch: 46, loss: 0.011178494617238742\n",
      "epoch: 47, loss: 0.01299848691805217\n",
      "epoch: 48, loss: 0.00965242649976681\n",
      "epoch: 49, loss: 0.008928205195927214\n",
      "epoch: 50, loss: 0.0037216118034197176\n",
      "epoch: 51, loss: 0.0019146473900306478\n",
      "epoch: 52, loss: 0.0040842655248560155\n",
      "epoch: 53, loss: 0.0073209970223266614\n",
      "epoch: 54, loss: 0.007316144636341357\n",
      "epoch: 55, loss: 0.00933523936518867\n",
      "epoch: 56, loss: 0.008081470614468442\n",
      "epoch: 57, loss: 0.006191928879442878\n",
      "epoch: 58, loss: 0.008252643381335946\n",
      "epoch: 59, loss: 0.0066455242983565746\n",
      "epoch: 60, loss: 0.006712422695635703\n",
      "epoch: 61, loss: 0.006058785755167473\n",
      "epoch: 62, loss: 0.00758625705068594\n",
      "epoch: 63, loss: 0.006074243684003153\n",
      "epoch: 64, loss: 0.006195836240941387\n",
      "epoch: 65, loss: 0.007401630168824527\n",
      "epoch: 66, loss: 0.0046655946091627145\n",
      "epoch: 67, loss: 0.00699443521891291\n",
      "epoch: 68, loss: 0.007630824753863509\n",
      "epoch: 69, loss: 0.007997325996378087\n",
      "epoch: 70, loss: 0.010169865650386039\n",
      "epoch: 71, loss: 0.007215192402641395\n",
      "epoch: 72, loss: 0.004093778351784575\n",
      "epoch: 73, loss: 0.004434463333763631\n",
      "epoch: 74, loss: 0.006425544466253395\n",
      "epoch: 75, loss: 0.004281686826149368\n",
      "epoch: 76, loss: 0.003626585736952048\n",
      "epoch: 77, loss: 0.00339632150484984\n",
      "epoch: 78, loss: 0.002195283706389505\n",
      "epoch: 79, loss: 0.0014226651837560595\n"
     ]
    }
   ],
   "source": [
    "##############################################################################\n",
    "# Implement train loop and log training loss after each epoch                #\n",
    "##############################################################################\n",
    "\n",
    "for _ in range(epochs):\n",
    "    train_loss = 0\n",
    "    num_iters = 0\n",
    "    for data, label in trainloader:\n",
    "        data, label = data.to(device), label.to(device)\n",
    "\n",
    "        output = model(data)\n",
    "        loss = criterion(output, label)\n",
    "        optimizer.zero_grad()\n",
    "        loss.backward()\n",
    "        optimizer.step()\n",
    "        \n",
    "        train_loss += loss.detach().item()\n",
    "        num_iters += 1\n",
    "\n",
    "    print(f'epoch: {_}, loss: {train_loss/num_iters}')    \n",
    "    \n",
    "\n",
    "\n",
    "################################ End #########################################"
   ]
  },
  {
   "cell_type": "code",
   "execution_count": 7,
   "metadata": {},
   "outputs": [
    {
     "name": "stdout",
     "output_type": "stream",
     "text": [
      "accuracy: 0.9999600052833557, loss: 0.00018671170584308883\n"
     ]
    }
   ],
   "source": [
    "##############################################################################\n",
    "# Evaluate the trained model on test set and print test accuracy             #\n",
    "##############################################################################\n",
    "torch.cuda.empty_cache()\n",
    "from sklearn.metrics import accuracy_score\n",
    "\n",
    "model.eval()\n",
    "with torch.no_grad():\n",
    "    test_loss = 0\n",
    "    correct = 0\n",
    "    num_iters = 0\n",
    "\n",
    "    for data, label in testloader:\n",
    "        data, label = data.to(device), label.to(device)\n",
    "        output = model(data)\n",
    "        loss = criterion(output, label)\n",
    "\n",
    "        test_loss += loss.item()\n",
    "        num_iters += 1\n",
    "        pred = torch.argmax(output, dim=-1)\n",
    "        print(pred.shape, label.shape)\n",
    "        correct += (pred == label).sum().item()\n",
    "\n",
    "    accuracy = correct / len(testloader.dataset)\n",
    "    avg_loss = test_loss / num_iters\n",
    "\n",
    "    print(f'accuracy: {accuracy:.4f}, loss: {avg_loss:.4f}')\n",
    "\n",
    "\n",
    "\n",
    "\n",
    "################################ End #########################################"
   ]
  },
  {
   "cell_type": "code",
   "execution_count": 8,
   "metadata": {},
   "outputs": [],
   "source": [
    "# Save model\n",
    "model.eval()\n",
    "model_name = \"./models/resnet18_cifar10_model_pretrained.pth\"\n",
    "model_PATH = f\"{model_name}\"\n",
    "torch.save(model.state_dict(), model_PATH)"
   ]
  },
  {
   "cell_type": "markdown",
   "metadata": {},
   "source": [
    "## FGSM Attack using torchattacks (10 pts)"
   ]
  },
  {
   "cell_type": "markdown",
   "metadata": {},
   "source": [
    "In this section you should run FGSM attack using torchattacks library (https://adversarial-attacks-pytorch.readthedocs.io/en/latest/index.html).\n",
    "\n",
    "Run the attack for $\\epsilon \\in \\{\\frac{1}{255}, \\frac{4}{255}, \\frac{8}{255},\\}$ report the performance of the model on untargeted FGSM attack on the test data."
   ]
  },
  {
   "cell_type": "code",
   "execution_count": 9,
   "metadata": {},
   "outputs": [
    {
     "name": "stdout",
     "output_type": "stream",
     "text": [
      "acc: 0.963100016117096\n"
     ]
    }
   ],
   "source": [
    "##############################################################################\n",
    "# run untargeted FGSM attack for epsilon = 1/255 and report its accuracy     #\n",
    "##############################################################################\n",
    "import torchattacks\n",
    "\n",
    "attack = torchattacks.FGSM(model, eps=1/255)\n",
    "model.eval()\n",
    "\n",
    "true = 0\n",
    "for images, labels in testloader:\n",
    "    images, labels = images.to(device), labels.to(device)\n",
    "    adv_images = attack(images, labels)\n",
    "\n",
    "    with torch.no_grad():\n",
    "        output = model(adv_images)   \n",
    "        pred = torch.argmax(output, dim = -1)\n",
    "        true += torch.sum((pred.detach().cpu() == labels.detach().cpu()).to(int))     \n",
    "\n",
    "print(f'acc: {true/len(testloader.dataset)}')\n",
    "\n",
    "\n",
    "################################ End #########################################"
   ]
  },
  {
   "cell_type": "code",
   "execution_count": 10,
   "metadata": {},
   "outputs": [
    {
     "name": "stdout",
     "output_type": "stream",
     "text": [
      "acc: 0.4053800106048584\n"
     ]
    }
   ],
   "source": [
    "##############################################################################\n",
    "# run untargeted FGSM attack for epsilon = 4/255 and report its accuracy     #\n",
    "##############################################################################\n",
    "\n",
    "\n",
    "\n",
    "attack = torchattacks.FGSM(model, eps=4/255)\n",
    "model.eval()\n",
    "\n",
    "true = 0\n",
    "for images, labels in testloader:\n",
    "    images, labels = images.to(device), labels.to(device)\n",
    "    adv_images = attack(images, labels)\n",
    "\n",
    "    with torch.no_grad():\n",
    "        output = model(adv_images)   \n",
    "        pred = torch.argmax(output, dim = -1)\n",
    "        true += torch.sum((pred.detach().cpu() == labels.detach().cpu()).to(int))     \n",
    "\n",
    "print(f'acc: {true/len(testloader.dataset)}')\n",
    "\n",
    "################################ End #########################################"
   ]
  },
  {
   "cell_type": "code",
   "execution_count": 11,
   "metadata": {},
   "outputs": [
    {
     "name": "stdout",
     "output_type": "stream",
     "text": [
      "acc: 0.17260000109672546\n"
     ]
    }
   ],
   "source": [
    "##############################################################################\n",
    "# run untargeted FGSM attack for epsilon = 8/255 and report its accuracy     #\n",
    "##############################################################################\n",
    "\n",
    "\n",
    "attack = torchattacks.FGSM(model, eps=8/255)\n",
    "model.eval()\n",
    "\n",
    "true = 0\n",
    "for images, labels in testloader:\n",
    "    images, labels = images.to(device), labels.to(device)\n",
    "    adv_images = attack(images, labels)\n",
    "\n",
    "    with torch.no_grad():\n",
    "        output = model(adv_images)   \n",
    "        pred = torch.argmax(output, dim = -1)\n",
    "        true += torch.sum((pred.detach().cpu() == labels.detach().cpu()).to(int))     \n",
    "\n",
    "print(f'acc: {true/len(testloader.dataset)}')\n",
    "\n",
    "\n",
    "################################ End #########################################"
   ]
  },
  {
   "cell_type": "markdown",
   "metadata": {},
   "source": [
    "## PGD Attack from scratch (30 pts)"
   ]
  },
  {
   "cell_type": "markdown",
   "metadata": {},
   "source": [
    "In this section you should implement PGD attack from scratch."
   ]
  },
  {
   "cell_type": "code",
   "execution_count": 12,
   "metadata": {},
   "outputs": [
    {
     "data": {
      "text/plain": [
       "<All keys matched successfully>"
      ]
     },
     "execution_count": 12,
     "metadata": {},
     "output_type": "execute_result"
    }
   ],
   "source": [
    "model = resnet(len(classes))\n",
    "model.load_state_dict(torch.load('./models/resnet18_cifar10_model_pretrained.pth'))"
   ]
  },
  {
   "cell_type": "code",
   "execution_count": 13,
   "metadata": {},
   "outputs": [],
   "source": [
    "import torch.nn.functional as F\n",
    "\n",
    "class LinfPGDAttack(object):\n",
    "\n",
    "    def __init__(self, model, epsilon=8/255, k=2, alpha=2/255):\n",
    "        self.model = model\n",
    "        self.epsilon = epsilon\n",
    "        self.steps = k\n",
    "        self.alpha = alpha\n",
    "\n",
    "    def __call__(self, images, labels):\n",
    "        images = images.to(device)\n",
    "        labels = labels.to(device)\n",
    "\n",
    "        perturbed_images = images.clone().detach()\n",
    "        perturbed_images = perturbed_images.to(device)\n",
    "\n",
    "        for idx in range(len(images)):\n",
    "            image = images[idx:idx+1] \n",
    "            label = labels[idx:idx+1]\n",
    "\n",
    "            out = self.model(image)\n",
    "            _, pred = torch.max(out, 1)\n",
    "\n",
    "            if pred.item() == label.item():\n",
    "                ##############################################################################\n",
    "                # Implement a k step PGD attack of size alpha                                #\n",
    "                # while always staying within epsilon distance from the initial point        #\n",
    "                # Use cross entropy loss                                                     #\n",
    "                ##############################################################################\n",
    "                perturbed_image = image.clone().detach()\n",
    "                perturbed_image = perturbed_image.to(device)\n",
    "                perturbed_image.requires_grad = True\n",
    "\n",
    "                for _ in range(self.steps):\n",
    "                    self.model.zero_grad()\n",
    "\n",
    "                    outputs = self.model(perturbed_image)\n",
    "                    loss = F.cross_entropy(outputs, label)\n",
    "\n",
    "                    loss.backward()\n",
    "                    sign_data_grad = perturbed_image.grad.data.sign()\n",
    "                    perturbed_image = perturbed_image + self.alpha * sign_data_grad\n",
    "\n",
    "                    perturbed_image = torch.clamp(perturbed_image, image - self.epsilon, image + self.epsilon)\n",
    "\n",
    "                    perturbed_image = torch.clamp(perturbed_image, 0, 1)\n",
    "                    perturbed_image = perturbed_image.detach()\n",
    "                    perturbed_image.requires_grad = True\n",
    "                ################################ End #########################################\n",
    "\n",
    "                perturbed_image = perturbed_image.detach()  \n",
    "                perturbed_images[idx:idx+1] = perturbed_image \n",
    "\n",
    "        return perturbed_images\n"
   ]
  },
  {
   "cell_type": "code",
   "execution_count": 14,
   "metadata": {},
   "outputs": [
    {
     "name": "stdout",
     "output_type": "stream",
     "text": [
      "k: 2, acc: 0.2640624940395355\n",
      "k: 4, acc: 0.03828125074505806\n",
      "k: 8, acc: 0.010937499813735485\n"
     ]
    }
   ],
   "source": [
    "##############################################################################\n",
    "# Evaluate PGD attack on the trained model with k=2,4,8                      #\n",
    "##############################################################################\n",
    "model = resnet(len(classes))\n",
    "model.load_state_dict(torch.load('./models/resnet18_cifar10_model_pretrained.pth'))\n",
    "\n",
    "batch_num = 10\n",
    "k_list = [2,4,8]\n",
    "device = 'cuda:0'\n",
    "##############################################################################\n",
    "for kk in k_list:\n",
    "    attack = LinfPGDAttack(model, k = kk)\n",
    "    model.to(device)\n",
    "    model.eval()\n",
    "\n",
    "    true = 0\n",
    "    cnt = 0\n",
    "    for images, labels in testloader:\n",
    "        cnt += 1\n",
    "        images, labels = images.to(device), labels.to(device)\n",
    "        adv_images = attack(images, labels)\n",
    "\n",
    "        with torch.no_grad():\n",
    "            output = model(adv_images)   \n",
    "            pred = torch.argmax(output, dim = -1)\n",
    "            true += torch.sum((pred.detach().cpu() == labels.detach().cpu()).to(int))     \n",
    "        if cnt == batch_num:\n",
    "            break\n",
    "    print(f'k: {kk}, acc: {true/(10 * batch_size)}')\n",
    "    \n",
    "################################ End #########################################"
   ]
  },
  {
   "cell_type": "markdown",
   "metadata": {},
   "source": [
    "## Visualization (10 pts)"
   ]
  },
  {
   "cell_type": "markdown",
   "metadata": {},
   "source": [
    "Implement a function to plot the original image, the perturbed image and their predicted labels by the model"
   ]
  },
  {
   "cell_type": "code",
   "execution_count": 15,
   "metadata": {},
   "outputs": [],
   "source": [
    "##############################################################################\n",
    "# Implement the function described                                           #\n",
    "##############################################################################\n",
    "import matplotlib.pyplot as plt\n",
    "\n",
    "def plot_images_with_predictions(original_image, adv_image, original_label, adv_label):\n",
    "\n",
    "    fig, axes = plt.subplots(1, 2, figsize=(3, 2))\n",
    "    \n",
    "    axes[0].imshow(original_image.permute(1, 2, 0))\n",
    "    axes[0].set_title(f'Original Image\\nPredicted: {classes[original_label]}')\n",
    "    axes[0].axis('off')\n",
    "    \n",
    "    axes[1].imshow(adv_image.permute(1, 2, 0))\n",
    "    axes[1].set_title(f'Perturbed Image\\nPredicted: {classes[adv_label]}')\n",
    "    axes[1].axis('off')\n",
    "    \n",
    "    plt.tight_layout()\n",
    "    plt.show()\n",
    "\n",
    "\n",
    "################################ End #########################################"
   ]
  },
  {
   "cell_type": "code",
   "execution_count": 16,
   "metadata": {},
   "outputs": [
    {
     "data": {
      "image/png": "[encoded data removed]",
      "text/plain": [
       "<Figure size 300x200 with 2 Axes>"
      ]
     },
     "metadata": {},
     "output_type": "display_data"
    },
    {
     "data": {
      "image/png": "[encoded data removed]",
      "text/plain": [
       "<Figure size 300x200 with 2 Axes>"
      ]
     },
     "metadata": {},
     "output_type": "display_data"
    },
    {
     "data": {
      "image/png": "[encoded data removed]",
      "text/plain": [
       "<Figure size 300x200 with 2 Axes>"
      ]
     },
     "metadata": {},
     "output_type": "display_data"
    }
   ],
   "source": [
    "##############################################################################\n",
    "# Choose 3 random images from testset and run FGSM attack and visualize      #\n",
    "##############################################################################\n",
    "import torchattacks\n",
    "num_samples = len(testset)\n",
    "random_indices = np.random.choice(num_samples, 3, replace=False)\n",
    "model.eval()\n",
    "\n",
    "attack = torchattacks.FGSM(model)\n",
    "for idx in random_indices:\n",
    "    image, label = testset[idx]\n",
    "    label = torch.tensor([label])\n",
    "    image = image.unsqueeze(0)\n",
    "    \n",
    "    image, label = image.to(device), label.to(device)\n",
    "    adv = attack(image, label)\n",
    "    pred = model(adv)\n",
    "    pred = torch.argmax(pred, dim = -1)\n",
    "    plot_images_with_predictions(image[0].detach().cpu(), adv[0].detach().cpu(), label.detach().cpu().item(), pred.detach().cpu().item())    \n",
    "\n",
    "\n",
    "################################ End #########################################"
   ]
  },
  {
   "cell_type": "code",
   "execution_count": 17,
   "metadata": {},
   "outputs": [
    {
     "data": {
      "image/png": "[encoded data removed]",
      "text/plain": [
       "<Figure size 300x200 with 2 Axes>"
      ]
     },
     "metadata": {},
     "output_type": "display_data"
    },
    {
     "data": {
      "image/png": "[encoded data removed]",
      "text/plain": [
       "<Figure size 300x200 with 2 Axes>"
      ]
     },
     "metadata": {},
     "output_type": "display_data"
    },
    {
     "data": {
      "image/png": "[encoded data removed]",
      "text/plain": [
       "<Figure size 300x200 with 2 Axes>"
      ]
     },
     "metadata": {},
     "output_type": "display_data"
    }
   ],
   "source": [
    "##############################################################################\n",
    "# Choose 3 random images from testset and run PGD attack and visualize      #\n",
    "##############################################################################\n",
    "\n",
    "attack = LinfPGDAttack(model)\n",
    "for idx in random_indices:\n",
    "    image, label = testset[idx]\n",
    "    label = torch.tensor([label])\n",
    "    image = image.unsqueeze(0)\n",
    "    \n",
    "    image, label = image.to(device), label.to(device)\n",
    "    adv = attack(image, label)\n",
    "    pred = model(adv)\n",
    "    pred = torch.argmax(pred, dim = -1)\n",
    "    plot_images_with_predictions(image[0].detach().cpu(), adv[0].detach().cpu(), label.detach().cpu().item(), pred.detach().cpu().item())    \n",
    "\n",
    "\n",
    "################################ End #########################################"
   ]
  },
  {
   "cell_type": "markdown",
   "metadata": {},
   "source": [
    "## Adversarial Training (35 pts)"
   ]
  },
  {
   "cell_type": "markdown",
   "metadata": {},
   "source": [
    "In this section you are going to adversarially train your model and see the results. "
   ]
  },
  {
   "cell_type": "code",
   "execution_count": 18,
   "metadata": {},
   "outputs": [
    {
     "name": "stdout",
     "output_type": "stream",
     "text": [
      "epoch: 0, loss: 1.0612043276467287\n",
      "epoch: 1, loss: 0.9966879570880509\n",
      "epoch: 2, loss: 0.9640684646108876\n",
      "epoch: 3, loss: 0.9409045121249031\n",
      "epoch: 4, loss: 0.9193536204755154\n",
      "epoch: 5, loss: 0.9020517223021564\n",
      "epoch: 6, loss: 0.886739683730523\n",
      "epoch: 7, loss: 0.8692236914659095\n",
      "epoch: 8, loss: 0.8536195265667518\n",
      "epoch: 9, loss: 0.8376815082776882\n",
      "epoch: 10, loss: 0.8206055104884955\n",
      "epoch: 11, loss: 0.8046394149055871\n",
      "epoch: 12, loss: 0.7864468789771389\n",
      "epoch: 13, loss: 0.7697422583694653\n",
      "epoch: 14, loss: 0.7478562404432565\n",
      "epoch: 15, loss: 0.7276808813099971\n",
      "epoch: 16, loss: 0.7079170956026257\n",
      "epoch: 17, loss: 0.6903377541190828\n",
      "epoch: 18, loss: 0.6696822239309931\n",
      "epoch: 19, loss: 0.6502986527464883\n",
      "epoch: 20, loss: 0.6307233794570883\n",
      "epoch: 21, loss: 0.6094472598846611\n",
      "epoch: 22, loss: 0.5890851733477219\n",
      "epoch: 23, loss: 0.57211546504589\n",
      "epoch: 24, loss: 0.5525132694360241\n",
      "epoch: 25, loss: 0.5389863863168165\n",
      "epoch: 26, loss: 0.5183577124420029\n",
      "epoch: 27, loss: 0.5006057774014485\n",
      "epoch: 28, loss: 0.4829688964749846\n",
      "epoch: 29, loss: 0.4672702395397684\n",
      "epoch: 30, loss: 0.4548893989352009\n",
      "epoch: 31, loss: 0.4437352116303066\n",
      "epoch: 32, loss: 0.4226839722269941\n",
      "epoch: 33, loss: 0.41458417943981296\n",
      "epoch: 34, loss: 0.3983778893337835\n",
      "epoch: 35, loss: 0.38777153441668166\n",
      "epoch: 36, loss: 0.37093758994661025\n",
      "epoch: 37, loss: 0.36026695591714375\n",
      "epoch: 38, loss: 0.34881328915238685\n",
      "epoch: 39, loss: 0.3368893342707163\n",
      "epoch: 40, loss: 0.3294672885590502\n",
      "epoch: 41, loss: 0.3167076839891541\n",
      "epoch: 42, loss: 0.3084732437758799\n",
      "epoch: 43, loss: 0.30187658176702614\n",
      "epoch: 44, loss: 0.2904133172824864\n",
      "epoch: 45, loss: 0.27896985567896565\n",
      "epoch: 46, loss: 0.27391066968136124\n",
      "epoch: 47, loss: 0.27415650080689385\n",
      "epoch: 48, loss: 0.2588796514608061\n",
      "epoch: 49, loss: 0.24866675442594396\n",
      "epoch: 50, loss: 0.24342985573174702\n",
      "epoch: 51, loss: 0.2311025262260071\n",
      "epoch: 52, loss: 0.2315978223024427\n",
      "epoch: 53, loss: 0.2233650072684983\n",
      "epoch: 54, loss: 0.2139493432801093\n",
      "epoch: 55, loss: 0.21060933207002136\n",
      "epoch: 56, loss: 0.20518386186769857\n",
      "epoch: 57, loss: 0.20434691253906626\n",
      "epoch: 58, loss: 0.1925038939432415\n",
      "epoch: 59, loss: 0.19420682061511232\n",
      "epoch: 60, loss: 0.1860171088286678\n",
      "epoch: 61, loss: 0.17676281344021677\n",
      "epoch: 62, loss: 0.17373430986157465\n",
      "epoch: 63, loss: 0.1703964530507012\n",
      "epoch: 64, loss: 0.16179785265794497\n",
      "epoch: 65, loss: 0.15980201565167484\n",
      "epoch: 66, loss: 0.15899483872877668\n",
      "epoch: 67, loss: 0.158044781793109\n",
      "epoch: 68, loss: 0.15591038559632533\n",
      "epoch: 69, loss: 0.14472457850375747\n",
      "epoch: 70, loss: 0.13986672788782192\n",
      "epoch: 71, loss: 0.14076560935782045\n",
      "epoch: 72, loss: 0.1375681640737502\n",
      "epoch: 73, loss: 0.12716217186597303\n",
      "epoch: 74, loss: 0.13081080439831594\n",
      "epoch: 75, loss: 0.1276281999752802\n",
      "epoch: 76, loss: 0.12254842668009536\n",
      "epoch: 77, loss: 0.11676427056950986\n",
      "epoch: 78, loss: 0.11717801168560982\n",
      "epoch: 79, loss: 0.11793299827276899\n"
     ]
    }
   ],
   "source": [
    "##############################################################################\n",
    "# Load a new resnet model for adversarial training                           #\n",
    "# Train the model on perturbed images from                                   #\n",
    "# untargeted FGSM attack with epsilon = 8/255 on train dataset               #\n",
    "# Also use the following setup for training the model                        #\n",
    "##############################################################################\n",
    "\n",
    "\n",
    "## instead of training from scratch, I'll train the pretrained model on the new perturbed images\n",
    "\n",
    "device = 'cuda:0'\n",
    "model = resnet(len(classes))\n",
    "# model.load_state_dict(torch.load('./models/resnet18_cifar10_model_pretrained.pth'))\n",
    "# adv_model = resnet(len(classes))\n",
    "# adv_model.to(device)\n",
    "model.to(device)\n",
    "learning_rate = 0.01\n",
    "criterion = nn.CrossEntropyLoss()\n",
    "# optimizer = optim.SGD(adv_model.parameters(), lr=learning_rate, momentum=0.9)\n",
    "epochs = 80\n",
    "\n",
    "model_optimizer = optim.SGD(model.parameters(), lr=learning_rate, momentum=0.9)\n",
    "\n",
    "\n",
    "true = 0\n",
    "\n",
    "for _ in range(epochs):\n",
    "    attack = torchattacks.FGSM(model, eps=8/255)\n",
    "    train_loss = 0\n",
    "    num_iters = 0\n",
    "    for data, label in trainloader:\n",
    "        data, label = data.to(device), label.to(device)\n",
    "\n",
    "        # output = adv_model(data.clone())\n",
    "        # loss = criterion(output, label)\n",
    "        # optimizer.zero_grad()\n",
    "        # loss.backward()\n",
    "        # optimizer.step()\n",
    "        \n",
    "        adv = attack(data, label)\n",
    "        output = model(adv.clone())\n",
    "        loss2 = criterion(output, label)\n",
    "        model_optimizer.zero_grad()\n",
    "        loss2.backward()\n",
    "        model_optimizer.step()\n",
    "\n",
    "        train_loss += loss2.detach().item() \n",
    "        num_iters += 2\n",
    "\n",
    "    print(f'epoch: {_}, loss: {train_loss/num_iters}')    \n",
    "\n",
    "\n",
    "\n",
    "################################ End #########################################"
   ]
  },
  {
   "cell_type": "code",
   "execution_count": 19,
   "metadata": {},
   "outputs": [],
   "source": [
    "# Save model\n",
    "model.eval()\n",
    "model_name = \"./models/resnet18_cifar10_model_robust.pth\"\n",
    "model_PATH = f\"{model_name}\"\n",
    "torch.save(model.state_dict(), model_PATH)"
   ]
  },
  {
   "cell_type": "code",
   "execution_count": 25,
   "metadata": {},
   "outputs": [
    {
     "name": "stdout",
     "output_type": "stream",
     "text": [
      "tensor(49561)\n",
      "accuracy: 0.9912199974060059, loss: 0.038054509143180704\n"
     ]
    }
   ],
   "source": [
    "##############################################################################\n",
    "# Evaluate the new model on the test dataset                                 #\n",
    "##############################################################################\n",
    "\n",
    "model.eval()\n",
    "with torch.no_grad():\n",
    "    test_loss = 0\n",
    "    num_iters = 0\n",
    "    true = 0\n",
    "    for data, label in testloader:\n",
    "        data, label = data.to(device), label.to(device)\n",
    "        output = model(data)\n",
    "        \n",
    "        loss = criterion(output, label)\n",
    "\n",
    "        test_loss += loss.detach().item()\n",
    "        num_iters += 1\n",
    "        pred = torch.argmax(output, dim = -1)\n",
    "\n",
    "\n",
    "        true += torch.sum((pred.detach().cpu() == label.detach().cpu()).to(int))\n",
    "\n",
    "    print(true)    \n",
    "    print(f'accuracy: {true/len(testloader.dataset)}, loss: {test_loss/num_iters}')    \n",
    "\n",
    "################################ End #########################################"
   ]
  },
  {
   "cell_type": "code",
   "execution_count": 21,
   "metadata": {},
   "outputs": [
    {
     "name": "stdout",
     "output_type": "stream",
     "text": [
      "epsilon: 0.00392156862745098, acc: 0.987779974937439\n",
      "epsilon: 0.01568627450980392, acc: 0.9726399779319763\n",
      "epsilon: 0.03137254901960784, acc: 0.9247999787330627\n"
     ]
    }
   ],
   "source": [
    "##############################################################################\n",
    "# Run FGSM attack on the adversarially trained model with epsilon = 8/255    #\n",
    "##############################################################################\n",
    "\n",
    "epsilons = [1/255, 4/255, 8/255]\n",
    "for epsilon in epsilons:\n",
    "    attack = torchattacks.FGSM(model, eps=epsilon)\n",
    "    model.eval()\n",
    "\n",
    "    true = 0\n",
    "    for images, labels in testloader:\n",
    "        images, labels = images.to(device), labels.to(device)\n",
    "        adv_images = attack(images, labels)\n",
    "\n",
    "        with torch.no_grad():\n",
    "            output = model(adv_images)   \n",
    "            pred = torch.argmax(output, dim = -1)\n",
    "            true += torch.sum((pred.detach().cpu() == labels.detach().cpu()).to(int))     \n",
    "\n",
    "    print(f'epsilon: {epsilon}, acc: {true/len(testloader.dataset)}')\n",
    "\n",
    "################################ End #########################################"
   ]
  },
  {
   "cell_type": "code",
   "execution_count": 22,
   "metadata": {},
   "outputs": [
    {
     "name": "stdout",
     "output_type": "stream",
     "text": [
      "k: 2, acc: 0.9789062738418579\n",
      "k: 4, acc: 0.8804687261581421\n",
      "k: 8, acc: 0.7953125238418579\n"
     ]
    }
   ],
   "source": [
    "##############################################################################\n",
    "#  Run PGD attack on the adversarially trained model with k=4                #\n",
    "##############################################################################\n",
    "\n",
    "batch_num = 10\n",
    "k_list = [2,4,8]\n",
    "device = 'cuda:0'\n",
    "##############################################################################\n",
    "for kk in k_list:\n",
    "    attack = LinfPGDAttack(model, k = kk)\n",
    "    model.to(device)\n",
    "    model.eval()\n",
    "\n",
    "    true = 0\n",
    "    cnt = 0\n",
    "    for images, labels in testloader:\n",
    "        cnt += 1\n",
    "        images, labels = images.to(device), labels.to(device)\n",
    "        adv_images = attack(images, labels)\n",
    "\n",
    "        with torch.no_grad():\n",
    "            output = model(adv_images)   \n",
    "            pred = torch.argmax(output, dim = -1)\n",
    "            true += torch.sum((pred.detach().cpu() == labels.detach().cpu()).to(int))     \n",
    "        if cnt == batch_num:\n",
    "            break\n",
    "    print(f'k: {kk}, acc: {true/(10 * batch_size)}')\n",
    "\n",
    "################################ End #########################################"
   ]
  },
  {
   "cell_type": "markdown",
   "metadata": {},
   "source": [
    "Answer the following questions:\n",
    "- What happened to the accuracy of the adversarially trained model?\n",
    "- What do you conclude from the result of the FGSM attack on the adversarially trained model?\n",
    "- What do you conclude from the result of the PGD attack on the adversarially trained model?\n",
    "- What is you final conclusion?"
   ]
  },
  {
   "cell_type": "markdown",
   "metadata": {},
   "source": [
    "<!DOCTYPE html>\n",
    "<html lang=\"en\">\n",
    "<head>\n",
    "<meta charset=\"UTF-8\">\n",
    "<meta name=\"viewport\" content=\"width=device-width, initial-scale=1.0\">\n",
    "<title>Sky Blue Text</title>\n",
    "<style>\n",
    "  body {\n",
    "    font-family: Arial, sans-serif;\n",
    "    background-color: #f0f8ff; /* Light sky blue background */\n",
    "    padding: 20px;\n",
    "  }\n",
    "  .skyblue-text {\n",
    "    color: #87ceeb; /* Sky blue color */\n",
    "  }\n",
    "</style>\n",
    "</head>\n",
    "<body>\n",
    "  <div class=\"skyblue-text\">\n",
    "    <p>There was a slight decrease in the performance of the adversarially trained model. It is notable that this model was pretrained on the original samples. Specifically, we should add the pretraining time to the adversarial training time to understand the significant time consumption of this method.\n",
    "\n",
    "FGSM is not a very strong attack, and the model could be robust against it with sufficient time and training samples.\n",
    "\n",
    "PGD is a stronger attack and can significantly impact the model's performance.\n",
    "\n",
    "Depending on our application and timeline, we may invest a substantial amount of time in making our model robust against different attacks, but it could still be vulnerable to new examples. The capacity of our model is another crucial factor. One reason for achieving good results against attacks and experiencing only a minor decrease in performance on the original samples is the high capacity of our model + having a small dataset in a low-dimensional space (3x32x32) (also we can see this through normal model's result on the original test set). In overall we could see the tradeoff between performance and robustness. Also PGD perturbed images was slightly more realistic in the visualized images.\n",
    "\n",
    "NOTE: I changed the adv model and trained it from scratch instead of using pretrained model to achieve similar results to others.\n",
    "</p>\n",
    "  </div>\n",
    "</body>\n",
    "</html>"
   ]
  }
 ],
 "metadata": {
  "kernelspec": {
   "display_name": "Python 3",
   "language": "python",
   "name": "python3"
  },
  "language_info": {
   "codemirror_mode": {
    "name": "ipython",
    "version": 3
   },
   "file_extension": ".py",
   "mimetype": "text/x-python",
   "name": "python",
   "nbconvert_exporter": "python",
   "pygments_lexer": "ipython3",
   "version": "3.10.12"
  }
 },
 "nbformat": 4,
 "nbformat_minor": 2
}
